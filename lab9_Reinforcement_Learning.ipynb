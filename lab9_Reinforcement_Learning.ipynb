{
  "nbformat": 4,
  "nbformat_minor": 0,
  "metadata": {
    "colab": {
      "name": "lab9 - Reinforcement Learning",
      "provenance": [],
      "collapsed_sections": [
        "jrI6q7RmWQam"
      ],
      "include_colab_link": true
    },
    "kernelspec": {
      "name": "python3",
      "display_name": "Python 3"
    },
    "accelerator": "GPU"
  },
  "cells": [
    {
      "cell_type": "markdown",
      "metadata": {
        "id": "view-in-github",
        "colab_type": "text"
      },
      "source": [
        "<a href=\"https://colab.research.google.com/github/FranciscoHernandez1998/lab9-Reinforcement-Learning/blob/master/lab9_Reinforcement_Learning.ipynb\" target=\"_parent\"><img src=\"https://colab.research.google.com/assets/colab-badge.svg\" alt=\"Open In Colab\"/></a>"
      ]
    },
    {
      "cell_type": "markdown",
      "metadata": {
        "id": "jrI6q7RmWQam",
        "colab_type": "text"
      },
      "source": [
        "<table align=\"center\">\n",
        "  <td align=\"center\"><a target=\"_blank\" href=\"http://introtodeeplearning.com\">\n",
        "        <img src=\"http://introtodeeplearning.com/images/colab/mit.png\" style=\"padding-bottom:5px;\" />\n",
        "      Visit MIT Deep Learning</a></td>\n",
        "  <td align=\"center\"><a target=\"_blank\" href=\"https://colab.research.google.com/github/aamini/introtodeeplearning/blob/master/lab3/RL.ipynb\">\n",
        "        <img src=\"http://introtodeeplearning.com/images/colab/colab.png?v2.0\"  style=\"padding-bottom:5px;\" />Run in Google Colab</a></td>\n",
        "  <td align=\"center\"><a target=\"_blank\" href=\"https://github.com/aamini/introtodeeplearning/blob/master/lab3/RL.ipynb\">\n",
        "        <img src=\"http://introtodeeplearning.com/images/colab/github.png\"  height=\"70px\" style=\"padding-bottom:5px;\"  />View Source on GitHub</a></td>\n",
        "</table>\n",
        "\n",
        "# Copyright Information"
      ]
    },
    {
      "cell_type": "code",
      "metadata": {
        "id": "wkd375upWYok",
        "colab_type": "code",
        "colab": {}
      },
      "source": [
        "# Copyright 2020 MIT 6.S191 Introduction to Deep Learning. All Rights Reserved.\n",
        "# \n",
        "# Licensed under the MIT License. You may not use this file except in compliance\n",
        "# with the License. Use and/or modification of this code outside of 6.S191 must\n",
        "# reference:\n",
        "#\n",
        "# © MIT 6.S191: Introduction to Deep Learning\n",
        "# http://introtodeeplearning.com\n",
        "#"
      ],
      "execution_count": 0,
      "outputs": []
    },
    {
      "cell_type": "markdown",
      "metadata": {
        "id": "WoXYKhfZMHiw",
        "colab_type": "text"
      },
      "source": [
        "# Laboratory 3: Reinforcement Learning\n",
        "\n",
        "Reinforcement learning (RL) is a subset of machine learning which poses learning problems as interactions between agents and environments. It often assumes agents have no prior knowledge of a world, so they must learn to navigate environments by optimizing a reward function. Within an environment, an agent can take certain actions and receive feedback, in the form of positive or negative rewards, with respect to their decision. As such, an agent's feedback loop is somewhat akin to the idea of \"trial and error\", or the manner in which a child might learn to distinguish between \"good\" and \"bad\" actions.\n",
        "\n",
        "In practical terms, our RL agent will interact with the environment by taking an action at each timestep, receiving a corresponding reward, and updating its state according to what it has \"learned\".  \n",
        "\n",
        "![alt text](https://www.kdnuggets.com/images/reinforcement-learning-fig1-700.jpg)\n",
        "\n",
        "While the ultimate goal of reinforcement learning is to teach agents to act in the real, physical world, games provide a convenient proving ground for developing RL algorithms and agents. Games have some properties that make them particularly well suited for RL: \n",
        "\n",
        "1.   In many cases, games have perfectly describable environments. For example, all rules of chess can be formally written and programmed into a chess game simulator;\n",
        "2.   Games are massively parallelizable. Since they do not require running in the real world, simultaneous environments can be run on large data clusters; \n",
        "3.   Simpler scenarios in games enable fast prototyping. This speeds up the development of algorithms that could eventually run in the real-world; and\n",
        "4.   ... Games are fun! \n",
        "\n",
        "In previous labs, we have explored both supervised (with LSTMs, CNNs) and unsupervised / semi-supervised (with VAEs) learning tasks. Reinforcement learning is fundamentally different, in that we are training a deep learning algorithm to govern the actions of our RL agent, that is trying, within its environment, to find the optimal way to achieve a goal. The goal of training an RL agent is to determine the best next step to take to earn the greatest final payoff or return. In this lab, we focus on building a reinforcement learning algorithm to master two different environments with varying complexity. \n",
        "\n",
        "1.   **Cartpole**:   Balance a pole, protruding from a cart, in an upright position by only moving the base left or right. Environment with a low-dimensional observation space.\n",
        "2.   [**Pong**](https://en.wikipedia.org/wiki/Pong): Beat your competitors (whether other AI or humans!) at the game of Pong. Environment with a high-dimensional observation space -- learning directly from raw pixels.\n",
        "\n",
        "Let's get started! First we'll import TensorFlow, the course package, and some dependencies.\n"
      ]
    },
    {
      "cell_type": "code",
      "metadata": {
        "id": "EvdePP-VyVWp",
        "colab_type": "code",
        "outputId": "d954da05-ab00-4622-9b8d-6e3e7db4fc71",
        "colab": {
          "base_uri": "https://localhost:8080/",
          "height": 201
        }
      },
      "source": [
        "!apt-get install -y xvfb python-opengl x11-utils > /dev/null 2>&1\n",
        "!pip install gym pyvirtualdisplay scikit-video > /dev/null 2>&1\n",
        "\n",
        "%tensorflow_version 2.x\n",
        "import tensorflow as tf\n",
        "\n",
        "import numpy as np\n",
        "import base64, io, time, gym\n",
        "import IPython, functools\n",
        "import matplotlib.pyplot as plt\n",
        "from tqdm import tqdm\n",
        "\n",
        "!pip install mitdeeplearning\n",
        "import mitdeeplearning as mdl"
      ],
      "execution_count": 27,
      "outputs": [
        {
          "output_type": "stream",
          "text": [
            "Requirement already satisfied: mitdeeplearning in /usr/local/lib/python3.6/dist-packages (0.1.2)\n",
            "Requirement already satisfied: numpy in /usr/local/lib/python3.6/dist-packages (from mitdeeplearning) (1.18.3)\n",
            "Requirement already satisfied: regex in /usr/local/lib/python3.6/dist-packages (from mitdeeplearning) (2019.12.20)\n",
            "Requirement already satisfied: gym in /usr/local/lib/python3.6/dist-packages (from mitdeeplearning) (0.17.1)\n",
            "Requirement already satisfied: tqdm in /usr/local/lib/python3.6/dist-packages (from mitdeeplearning) (4.38.0)\n",
            "Requirement already satisfied: pyglet<=1.5.0,>=1.4.0 in /usr/local/lib/python3.6/dist-packages (from gym->mitdeeplearning) (1.5.0)\n",
            "Requirement already satisfied: scipy in /usr/local/lib/python3.6/dist-packages (from gym->mitdeeplearning) (1.4.1)\n",
            "Requirement already satisfied: cloudpickle<1.4.0,>=1.2.0 in /usr/local/lib/python3.6/dist-packages (from gym->mitdeeplearning) (1.3.0)\n",
            "Requirement already satisfied: six in /usr/local/lib/python3.6/dist-packages (from gym->mitdeeplearning) (1.12.0)\n",
            "Requirement already satisfied: future in /usr/local/lib/python3.6/dist-packages (from pyglet<=1.5.0,>=1.4.0->gym->mitdeeplearning) (0.16.0)\n"
          ],
          "name": "stdout"
        }
      ]
    },
    {
      "cell_type": "markdown",
      "metadata": {
        "id": "zmrHSiXKTXTY",
        "colab_type": "text"
      },
      "source": [
        "Before we dive in, let's take a step back and outline our approach, which is generally applicable to reinforcement learning problems in general:\n",
        "\n",
        "1. **Initialize our environment and our agent**: here we will describe the different observations and actions the agent can make in the environemnt.\n",
        "2. **Define our agent's memory**: this will enable the agent to remember its past actions, observations, and rewards.\n",
        "3. **Define a reward function**: describes the reward associated with an action or sequence of actions.\n",
        "4. **Define the learning algorithm**: this will be used to reinforce the agent's good behaviors and discourage bad behaviors.\n"
      ]
    },
    {
      "cell_type": "markdown",
      "metadata": {
        "id": "UT7YL8KBJIIc",
        "colab_type": "text"
      },
      "source": [
        "# Part 1: Cartpole\n",
        "\n",
        "## 3.1 Define the Cartpole environment and agent\n",
        "\n",
        "### Environment \n",
        "\n",
        "In order to model the environment for both the Cartpole and Pong tasks, we'll be using a toolkit developed by OpenAI called [OpenAI Gym](https://gym.openai.com/). It provides several pre-defined environments for training and testing reinforcement learning agents, including those for classic physics control tasks, Atari video games, and robotic simulations. To access the Cartpole environment, we can use `env = gym.make(\"CartPole-v0\")`, which we gained access to when we imported the `gym` package. We can instantiate different [environments](https://gym.openai.com/envs/#classic_control) by passing the enivronment name to the `make` function.\n",
        "\n",
        "One issue we might experience when developing RL algorithms is that many aspects of the learning process are inherently random: initializing game states, changes in the environment, and the agent's actions. As such, it can be helpful to set a initial \"seed\" for the environment to ensure some level of reproducibility. Much like you might use `numpy.random.seed`, we can call the comparable function in gym, `seed`, with our defined environment to ensure the environment's random variables are initialized the same each time."
      ]
    },
    {
      "cell_type": "code",
      "metadata": {
        "id": "quv9SC0iIYFm",
        "colab_type": "code",
        "outputId": "ac044265-5bcf-4ee8-9231-96e63eeb8756",
        "colab": {
          "base_uri": "https://localhost:8080/",
          "height": 35
        }
      },
      "source": [
        "### Instantiate the Cartpole environment ###\n",
        "\n",
        "env = gym.make(\"CartPole-v0\")\n",
        "env.seed(1)"
      ],
      "execution_count": 28,
      "outputs": [
        {
          "output_type": "execute_result",
          "data": {
            "text/plain": [
              "[1]"
            ]
          },
          "metadata": {
            "tags": []
          },
          "execution_count": 28
        }
      ]
    },
    {
      "cell_type": "markdown",
      "metadata": {
        "id": "mhEITUcKK455",
        "colab_type": "text"
      },
      "source": [
        "In Cartpole, a pole is attached by an un-actuated joint to a cart, which moves along a frictionless track. The pole starts upright, and the goal is to prevent it from falling over. The system is controlled by applying a force of +1 or -1 to the cart. A reward of +1 is provided for every timestep that the pole remains upright. The episode ends when the pole is more than 15 degrees from vertical, or the cart moves more than 2.4 units from the center of the track. A visual summary of the cartpole environment is depicted below:\n",
        "\n",
        "<img width=\"400px\" src=\"https://danielpiedrahita.files.wordpress.com/2017/02/cart-pole.png\"></img>\n",
        "\n",
        "Given this setup for the environment and the objective of the game, we can think about: 1) what observations help define the environment's state; 2) what actions the agent can take. \n",
        "\n",
        "First, let's consider the observation space. In this Cartpole environment our observations are:\n",
        "\n",
        "1. Cart position\n",
        "2. Cart velocity\n",
        "3. Pole angle\n",
        "4. Pole rotation rate\n",
        "\n",
        "We can confirm the size of the space by querying the environment's observation space:\n"
      ]
    },
    {
      "cell_type": "code",
      "metadata": {
        "id": "UVJaEcbdIX82",
        "colab_type": "code",
        "outputId": "7433708c-f3a0-4219-fe10-e70a6d9617fe",
        "colab": {
          "base_uri": "https://localhost:8080/",
          "height": 35
        }
      },
      "source": [
        "n_observations = env.observation_space\n",
        "print(\"Environment has observation space =\", n_observations)"
      ],
      "execution_count": 29,
      "outputs": [
        {
          "output_type": "stream",
          "text": [
            "Environment has observation space = Box(4,)\n"
          ],
          "name": "stdout"
        }
      ]
    },
    {
      "cell_type": "markdown",
      "metadata": {
        "id": "ZibGgjrALgPM",
        "colab_type": "text"
      },
      "source": [
        "Second, we consider the action space. At every time step, the agent can move either right or left. Again we can confirm the size of the action space by querying the environment:"
      ]
    },
    {
      "cell_type": "code",
      "metadata": {
        "id": "qc9SIPxBIXrm",
        "colab_type": "code",
        "outputId": "481f9b14-fcd5-40c2-a58b-04b4e1dfc3d1",
        "colab": {
          "base_uri": "https://localhost:8080/",
          "height": 35
        }
      },
      "source": [
        "n_actions = env.action_space.n\n",
        "print(\"Number of possible actions that the agent can choose from =\", n_actions)"
      ],
      "execution_count": 30,
      "outputs": [
        {
          "output_type": "stream",
          "text": [
            "Number of possible actions that the agent can choose from = 2\n"
          ],
          "name": "stdout"
        }
      ]
    },
    {
      "cell_type": "markdown",
      "metadata": {
        "id": "pPfHME8aRKkb",
        "colab_type": "text"
      },
      "source": [
        "### Cartpole agent\n",
        "\n",
        "Now that we have instantiated the environment and understood the dimensionality of the observation and action spaces, we are ready to define our agent. In deep reinforcement learning, a deep neural network defines the agent. This network will take as input an observation of the environment and output the probability of taking each of the possible actions. Since Cartpole is defined by a low-dimensional observation space, a simple feed-forward neural network should work well for our agent. We will define this using the `Sequential` API.\n"
      ]
    },
    {
      "cell_type": "code",
      "metadata": {
        "id": "W-o_XK4oQ4eu",
        "colab_type": "code",
        "colab": {}
      },
      "source": [
        "### Define the Cartpole agent ###\n",
        "\n",
        "# Defines a feed-forward neural network\n",
        "def create_cartpole_model():\n",
        "  model = tf.keras.models.Sequential([\n",
        "      # First Dense layer\n",
        "      tf.keras.layers.Dense(units=32, activation='relu'),\n",
        "\n",
        "      # TODO: Define the last Dense layer, which will provide the network's output.\n",
        "      # Think about the space the agent needs to act in!\n",
        "      #TODO: Dense layer to output action probabilities\n",
        "\n",
        "      #EL ESPACIO EN EL QUE INTERACTUA, ES EL NUMERO DE ACCIONES POSIBLES QUE EL AGENTE PUEDE TOMAR\n",
        "      #MOVERSE A LA IZQUIERDA O A LA DERECHA, N_ACTIONS\n",
        "      tf.keras.layers.Dense(units=n_actions)\n",
        "  ])\n",
        "  return model\n",
        "\n",
        "cartpole_model = create_cartpole_model()"
      ],
      "execution_count": 0,
      "outputs": []
    },
    {
      "cell_type": "markdown",
      "metadata": {
        "id": "d5D5NSIYS2IW",
        "colab_type": "text"
      },
      "source": [
        "Now that we have defined the core network architecture, we will define an *action function* that executes a forward pass through the network, given a set of observations, and samples from the output. This sampling from the output probabilities will be used to select the next action for the agent. \n",
        "\n",
        "**Critically, this action function is totally general -- we will use this function for both Cartpole and Pong, and it is applicable to other RL tasks, as well!**"
      ]
    },
    {
      "cell_type": "code",
      "metadata": {
        "id": "E_vVZRr8Q4R_",
        "colab_type": "code",
        "colab": {}
      },
      "source": [
        "### Define the agent's action function ###\n",
        "\n",
        "# Function that takes observations as input, executes a forward pass through model, \n",
        "#   and outputs a sampled action.\n",
        "# Arguments:\n",
        "#   model: the network that defines our agent\n",
        "#   observation: observation which is fed as input to the model\n",
        "# Returns:\n",
        "#   action: choice of agent action\n",
        "def choose_action(model, observation):\n",
        "  # add batch dimension to the observation\n",
        "  observation = np.expand_dims(observation, axis=0)\n",
        "\n",
        "  '''TODO: feed the observations through the model to predict the log probabilities of each possible action.'''\n",
        "  #OBSERVACION ENTREGADA AL MODELO PARA PREDECIR PROBABILIDADES DE CADA ACCION POSIBLE\n",
        "  logits = model.predict(observation)\n",
        "  \n",
        "  # pass the log probabilities through a softmax to compute true probabilities\n",
        "  prob_weights = tf.nn.softmax(logits).numpy()\n",
        "  \n",
        "  '''TODO: randomly sample from the prob_weights to pick an action.\n",
        "  Hint: carefully consider the dimensionality of the input probabilities (vector) and the output action (scalar)'''\n",
        "  #PROBABILIDADES DE INPUT, CANTIDAD N_ACTIONS\n",
        "  #SALE UN ESCALAR\n",
        "\n",
        "  #PESOS DE LAS PROBABILIDADES, EN UN ARREGLO UNIDIMENSIONAL\n",
        "  prob_wieghts_para_sample = prob_weights.flatten()\n",
        "  #TOMAR LA RANDOM CHOICE EN  LA POSICION 0 DEL ARREGLO DEVUELTO\n",
        "  action = np.random.choice(n_actions, size=1, p=prob_wieghts_para_sample)[0]\n",
        "\n",
        "  return action"
      ],
      "execution_count": 0,
      "outputs": []
    },
    {
      "cell_type": "markdown",
      "metadata": {
        "id": "_tR9uAWcTnkr",
        "colab_type": "text"
      },
      "source": [
        "## 3.2 Define the agent's memory\n",
        "\n",
        "Now that we have instantiated the environment and defined the agent network architecture and action function, we are ready to move on to the next step in our RL workflow:\n",
        "1. **Initialize our environment and our agent**: here we will describe the different observations and actions the agent can make in the environemnt.\n",
        "2. **Define our agent's memory**: this will enable the agent to remember its past actions, observations, and rewards.\n",
        "3. **Define the learning algorithm**: this will be used to reinforce the agent's good behaviors and discourage bad behaviors.\n",
        "\n",
        "In reinforcement learning, training occurs alongside the agent's acting in the environment; an *episode* refers to a sequence of actions that ends in some terminal state, such as the pole falling down or the cart crashing. The agent will need to remember all of its observations and actions, such that once an episode ends, it can learn to \"reinforce\" the good actions and punish the undesirable actions via training. Our first step is to define a simple memory buffer that contains the agent's observations, actions, and received rewards from a given episode. \n",
        "\n",
        "**Once again, note the modularity of this memory buffer -- it can and will be applied to other RL tasks as well!**"
      ]
    },
    {
      "cell_type": "code",
      "metadata": {
        "id": "8MM6JwXVQ4JG",
        "colab_type": "code",
        "colab": {}
      },
      "source": [
        "### Agent Memory ###\n",
        "\n",
        "class Memory:\n",
        "  def __init__(self): \n",
        "      self.clear()\n",
        "\n",
        "  # Resets/restarts the memory buffer\n",
        "  def clear(self): \n",
        "      self.observations = []\n",
        "      self.actions = []\n",
        "      self.rewards = []\n",
        "\n",
        "  # Add observations, actions, rewards to memory\n",
        "  def add_to_memory(self, new_observation, new_action, new_reward): \n",
        "      self.observations.append(new_observation)\n",
        "      '''TODO: update the list of actions with new action'''\n",
        "      # TODO: your update code here\n",
        "      #ACTUALIZAR LA LISTA DE ACCIONES CON LA NUEVA ACCION\n",
        "      self.actions.append(new_action)\n",
        "      '''TODO: update the list of rewards with new reward'''\n",
        "      # TODO: your update code here\n",
        "      #ACTUALIZAR LA LISTA DE RECOMPENSAS CON LA NUEVA RECOMPENSA\n",
        "      self.rewards.append(new_reward)\n",
        "        \n",
        "memory = Memory()"
      ],
      "execution_count": 0,
      "outputs": []
    },
    {
      "cell_type": "markdown",
      "metadata": {
        "id": "D4YhtPaUVj5m",
        "colab_type": "text"
      },
      "source": [
        "## 3.3 Reward function\n",
        "\n",
        "We're almost ready to begin the learning algorithm for our agent! The next step is to compute the rewards of our agent as it acts in the environment. Since we (and the agent) is uncertain about if and when the game or task will end (i.e., when the pole will fall), it is useful to emphasize getting rewards **now** rather than later in the future -- this is the idea of discounting. This is a similar concept to discounting money in the case of interest. ecall from lecture, we use reward discount to give more preference at getting rewards now rather than later in the future. The idea of discounting rewards is similar to discounting money in the case of interest.\n",
        "\n",
        "To compute the expected cumulative reward, known as the **return**, at a given timestep in a learning episode, we sum the discounted rewards expected at that time step $t$, within a learning episode, and projecting into the future. We define the return (cumulative reward) at a time step $t$, $R_{t}$ as:\n",
        "\n",
        ">$R_{t}=\\sum_{k=0}^\\infty\\gamma^kr_{t+k}$\n",
        "\n",
        "where  $0 < \\gamma < 1$ is the discount factor and $r_{t}$ is the reward at time step $t$, and the index $k$ increments projection into the future within a single learning episode. Intuitively, you can think of this function as depreciating any rewards received at later time steps, which will force the agent prioritize getting rewards now. Since we can't extend episodes to infinity, in practice the computation will be limited to the number of timesteps in an episode -- after that the reward is assumed to be zero.\n",
        "\n",
        "Take note of the form of this sum -- we'll have to be clever about how we implement this function. Specifically, we'll need to initialize an array of zeros, with length of the number of time steps, and fill it with the real discounted reward values as we loop through the rewards from the episode, which will have been saved in the agents memory. What we ultimately care about is which actions are better relative to other actions taken in that episode -- so, we'll normalize our computed rewards, using the mean and standard deviation of the rewards across the learning episode.\n"
      ]
    },
    {
      "cell_type": "code",
      "metadata": {
        "id": "5_Q2OFYtQ32X",
        "colab_type": "code",
        "colab": {}
      },
      "source": [
        "### Reward function ###\n",
        "\n",
        "# Helper function that normalizes an np.array x\n",
        "def normalize(x):\n",
        "  x -= np.mean(x)\n",
        "  x /= np.std(x)\n",
        "  return x.astype(np.float32)\n",
        "\n",
        "# Compute normalized, discounted, cumulative rewards (i.e., return)\n",
        "# Arguments:\n",
        "#   rewards: reward at timesteps in episode\n",
        "#   gamma: discounting factor\n",
        "# Returns:\n",
        "#   normalized discounted reward\n",
        "def discount_rewards(rewards, gamma=0.95): \n",
        "  discounted_rewards = np.zeros_like(rewards)\n",
        "  R = 0\n",
        "  for t in reversed(range(0, len(rewards))):\n",
        "      # update the total discounted reward\n",
        "      R = R * gamma + rewards[t]\n",
        "      discounted_rewards[t] = R\n",
        "      \n",
        "  return normalize(discounted_rewards)"
      ],
      "execution_count": 0,
      "outputs": []
    },
    {
      "cell_type": "markdown",
      "metadata": {
        "id": "QzbY-mjGYcmt",
        "colab_type": "text"
      },
      "source": [
        "## 3.4 Learning algorithm\n",
        "\n",
        "Now we can start to define the learing algorithm which will be used to reinforce good behaviors of the agent and discourage bad behaviours. In this lab, we will focus on *policy gradient* methods which aim to **maximize** the likelihood of actions that result in large rewards. Equivalently, this means that we want to **minimize** the negative likelihood of these same actions. We achieve this by simply **scaling** the probabilities by their associated rewards -- effectively amplifying the likelihood of actions that resujlt in large rewards.\n",
        "\n",
        "Since the log function is monotonically increasing, this means that minimizing **negative likelihood** is equivalent to minimizing **negative log-likelihood**.  Recall that we can easily compute the negative log-likelihood of a discrete action by evaluting its [softmax cross entropy](https://www.tensorflow.org/api_docs/python/tf/nn/sparse_softmax_cross_entropy_with_logits). Like in supervised learning, we can use stochastic gradient descent methods to achieve the desired minimization. \n",
        "\n",
        "Let's begin by defining the loss function."
      ]
    },
    {
      "cell_type": "code",
      "metadata": {
        "id": "fsgZ3IDCY_Zn",
        "colab_type": "code",
        "colab": {}
      },
      "source": [
        "### Loss function ###\n",
        "\n",
        "# Arguments:\n",
        "#   logits: network's predictions for actions to take\n",
        "#   actions: the actions the agent took in an episode\n",
        "#   rewards: the rewards the agent received in an episode\n",
        "# Returns:\n",
        "#   loss\n",
        "def compute_loss(logits, actions, rewards): \n",
        "  '''TODO: complete the function call to compute the negative log probabilities'''\n",
        "  #LOGITS SON LAS PREDICCIONES PARA LAS ACCIONES A TOMAR\n",
        "  #LAS ETIQUETAS SERAN LAS ACCIONES QUE EL AGENTE TOMA\n",
        "  neg_logprob = tf.nn.sparse_softmax_cross_entropy_with_logits(logits=logits, labels=actions)\n",
        "  \n",
        "  '''TODO: scale the negative log probability by the rewards'''\n",
        "  #ESCALAR ENVIANDO COMO ARG, LA PROBABILIDAD LOG NEGATIVA POR LAS RECOMPENSAS\n",
        "  arg= neg_logprob*rewards\n",
        "  loss = tf.reduce_mean(arg)\n",
        "  return loss"
      ],
      "execution_count": 0,
      "outputs": []
    },
    {
      "cell_type": "markdown",
      "metadata": {
        "id": "Rr5vQ9fqbPpp",
        "colab_type": "text"
      },
      "source": [
        "Now let's use the loss function to define a training step of our learning algorithm:"
      ]
    },
    {
      "cell_type": "code",
      "metadata": {
        "id": "_50ada7nbZ7L",
        "colab_type": "code",
        "colab": {}
      },
      "source": [
        "### Training step (forward and backpropagation) ###\n",
        "\n",
        "def train_step(model, optimizer, observations, actions, discounted_rewards):\n",
        "  with tf.GradientTape() as tape:\n",
        "      # Forward propagate through the agent network\n",
        "      logits = model(observations)\n",
        "\n",
        "      '''TODO: call the compute_loss function to compute the loss'''\n",
        "      #SE COMPUTA EL LOSS, CON LA FUNCION DEFINIDA ANTERIORMENTE\n",
        "      loss = compute_loss(logits, actions, discounted_rewards)\n",
        "\n",
        "  '''TODO: run backpropagation to minimize the loss using the tape.gradient method.\n",
        "      Use `model.trainable_variables`'''\n",
        "  #BACKPROPAGATION PARA MINIMIZAR LOSS\n",
        "  backprop_TV = model.trainable_variables\n",
        "  grads = tape.gradient(loss, backprop_TV)\n",
        "  optimizer.apply_gradients(zip(grads, model.trainable_variables))\n"
      ],
      "execution_count": 0,
      "outputs": []
    },
    {
      "cell_type": "markdown",
      "metadata": {
        "id": "XsjKXh6BcgjR",
        "colab_type": "text"
      },
      "source": [
        "## 3.5 Run cartpole!\n",
        "\n",
        "Having had no prior knowledge of the environment, the agent will begin to learn how to balance the pole on the cart based only on the feedback received from the environment! Having defined how our agent can move, how it takes in new observations, and how it updates its state, we'll see how it gradually learns a policy of actions to optimize balancing the pole as long as possible. To do this, we'll track how the rewards evolve as a function of training -- how should the rewards change as training progresses?"
      ]
    },
    {
      "cell_type": "code",
      "metadata": {
        "id": "XmOzc2rrcn8Q",
        "colab_type": "code",
        "outputId": "6bb6f3a4-7fde-4517-ef1c-6f56639cb745",
        "colab": {
          "base_uri": "https://localhost:8080/",
          "height": 541
        }
      },
      "source": [
        "### Cartpole training! ###\n",
        "\n",
        "# Learning rate and optimizer\n",
        "learning_rate = 1e-3\n",
        "optimizer = tf.keras.optimizers.Adam(learning_rate)\n",
        "\n",
        "# instantiate cartpole agent\n",
        "cartpole_model = create_cartpole_model()\n",
        "\n",
        "# to track our progress\n",
        "smoothed_reward = mdl.util.LossHistory(smoothing_factor=0.9)\n",
        "plotter = mdl.util.PeriodicPlotter(sec=2, xlabel='Iterations', ylabel='Rewards')\n",
        "\n",
        "if hasattr(tqdm, '_instances'): tqdm._instances.clear() # clear if it exists\n",
        "for i_episode in range(500):\n",
        "\n",
        "  plotter.plot(smoothed_reward.get())\n",
        "\n",
        "  # Restart the environment\n",
        "  observation = env.reset()\n",
        "  memory.clear()\n",
        "\n",
        "  while True:\n",
        "      # using our observation, choose an action and take it in the environment\n",
        "      action = choose_action(cartpole_model, observation)\n",
        "      next_observation, reward, done, info = env.step(action)\n",
        "      # add to memory\n",
        "      memory.add_to_memory(observation, action, reward)\n",
        "      \n",
        "      # is the episode over? did you crash or do so well that you're done?\n",
        "      if done:\n",
        "          # determine total reward and keep a record of this\n",
        "          total_reward = sum(memory.rewards)\n",
        "          smoothed_reward.append(total_reward)\n",
        "          \n",
        "          # initiate training - remember we don't know anything about how the \n",
        "          #   agent is doing until it has crashed!\n",
        "          train_step(cartpole_model, optimizer, \n",
        "                     observations=np.vstack(memory.observations),\n",
        "                     actions=np.array(memory.actions),\n",
        "                     discounted_rewards = discount_rewards(memory.rewards))\n",
        "          \n",
        "          # reset the memory\n",
        "          memory.clear()\n",
        "          break\n",
        "      # update our observatons\n",
        "      observation = next_observation"
      ],
      "execution_count": 37,
      "outputs": [
        {
          "output_type": "display_data",
          "data": {
            "image/png": "[encoded data removed]",
            "text/plain": [
              "<Figure size 432x288 with 1 Axes>"
            ]
          },
          "metadata": {
            "tags": []
          }
        },
        {
          "output_type": "display_data",
          "data": {
            "image/png": "[encoded data removed]",
            "text/plain": [
              "<Figure size 432x288 with 1 Axes>"
            ]
          },
          "metadata": {
            "tags": [],
            "needs_background": "light"
          }
        }
      ]
    },
    {
      "cell_type": "markdown",
      "metadata": {
        "id": "mkcUtGF1VE-K",
        "colab_type": "text"
      },
      "source": [
        "To get a sense of how our agent did, we can save a video of the trained model working on balancing the pole. Realize that this is a brand new environment that the agent has not seen before!\n",
        "\n",
        "Let's display the saved video to watch how our agent did!\n"
      ]
    },
    {
      "cell_type": "code",
      "metadata": {
        "id": "PAYBkv6Zbk0J",
        "colab_type": "code",
        "outputId": "4ddf1e0a-1f84-498f-baac-c88a106a7273",
        "colab": {
          "base_uri": "https://localhost:8080/",
          "height": 439
        }
      },
      "source": [
        "saved_cartpole = mdl.lab3.save_video_of_model(cartpole_model, \"CartPole-v0\")\n",
        "mdl.lab3.play_video(saved_cartpole)"
      ],
      "execution_count": 38,
      "outputs": [
        {
          "output_type": "stream",
          "text": [
            "Successfully saved 200 frames into CartPole-v0.mp4!\n"
          ],
          "name": "stdout"
        },
        {
          "output_type": "execute_result",
          "data": {
            "text/html": [
              "\n",
              "        <video controls>\n",
              "            <source src=\"data:video/mp4;base64,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\" type=\"video/mp4\" />\n",
              "        </video>"
            ],
            "text/plain": [
              "<IPython.core.display.HTML object>"
            ]
          },
          "metadata": {
            "tags": []
          },
          "execution_count": 38
        }
      ]
    },
    {
      "cell_type": "markdown",
      "metadata": {
        "id": "CSbVNDpaVb3_",
        "colab_type": "text"
      },
      "source": [
        "How does the agent perform? Could you train it for shorter amounts of time and still perform well? Do you think that training longer would help even more? "
      ]
    },
    {
      "cell_type": "markdown",
      "metadata": {
        "id": "Eu6Mqxc720ST",
        "colab_type": "text"
      },
      "source": [
        "#Part 2: Pong\n",
        "\n",
        "In Cartpole, we dealt with an environment that was static -- in other words, it didn't change over time. What happens if our environment is dynamic and unpredictable? Well that's exactly the case in [Pong](https://en.wikipedia.org/wiki/Pong), since part of the environment is the opposing player. We don't know how our opponent will act or react to our actions, so the complexity of our problem increases. It also becomes much more interesting, since we can compete to beat our opponent. RL provides a powerful framework for training AI systems with the ability to handle and interact with dynamic, unpredictable environments. In this part of the lab, we'll use the tools and workflow we explored in Part 1 to build an RL agent capable of playing the game of Pong.\n"
      ]
    },
    {
      "cell_type": "markdown",
      "metadata": {
        "id": "srZ4YE29isuA",
        "colab_type": "text"
      },
      "source": [
        "## 3.6 Define and inspect the Pong environment\n",
        "\n",
        "As with Cartpole, we'll instantiate the Pong environment in the OpenAI gym, using a seed of 1."
      ]
    },
    {
      "cell_type": "code",
      "metadata": {
        "id": "lbYHLr66i15n",
        "colab_type": "code",
        "colab": {}
      },
      "source": [
        "env = gym.make(\"Pong-v0\", frameskip=5)\n",
        "env.seed(1); # for reproducibility"
      ],
      "execution_count": 0,
      "outputs": []
    },
    {
      "cell_type": "markdown",
      "metadata": {
        "id": "52uZ2Xhyi-MW",
        "colab_type": "text"
      },
      "source": [
        "Let's next consider the observation space for the Pong environment. Instead of four physical descriptors of the cart-pole setup, in the case of Pong our observations are the individual video frames (i.e., images) that depict the state of the board. Thus, the observations are 210x160 RGB images (arrays of shape (210,160,3)).\n",
        "\n",
        "We can again confirm the size of the observation space by query:"
      ]
    },
    {
      "cell_type": "code",
      "metadata": {
        "id": "0yX4GWvxjnHS",
        "colab_type": "code",
        "outputId": "ac17b65f-438a-40ab-a10c-32ce957b7534",
        "colab": {
          "base_uri": "https://localhost:8080/",
          "height": 35
        }
      },
      "source": [
        "print(\"Environment has observation space =\", env.observation_space)"
      ],
      "execution_count": 40,
      "outputs": [
        {
          "output_type": "stream",
          "text": [
            "Environment has observation space = Box(210, 160, 3)\n"
          ],
          "name": "stdout"
        }
      ]
    },
    {
      "cell_type": "markdown",
      "metadata": {
        "id": "uuEC2TdSjx9D",
        "colab_type": "text"
      },
      "source": [
        "In Pong, at every time step, the agent (which controls the paddle) has six actions to choose from: no-op (no operation), move right, move left, fire, fire right, and fire left. Let's confirm the size of the action space by querying the environment:"
      ]
    },
    {
      "cell_type": "code",
      "metadata": {
        "id": "Iuy9oPc1kag3",
        "colab_type": "code",
        "outputId": "f40ff067-c8d8-4e32-d8ad-23331eacb7fd",
        "colab": {
          "base_uri": "https://localhost:8080/",
          "height": 35
        }
      },
      "source": [
        "n_actions = env.action_space.n\n",
        "print(\"Number of possible actions that the agent can choose from =\", n_actions)"
      ],
      "execution_count": 41,
      "outputs": [
        {
          "output_type": "stream",
          "text": [
            "Number of possible actions that the agent can choose from = 6\n"
          ],
          "name": "stdout"
        }
      ]
    },
    {
      "cell_type": "markdown",
      "metadata": {
        "id": "9-fghDRigUE5",
        "colab_type": "text"
      },
      "source": [
        "## 3.7 Define the Pong agent\n",
        "\n",
        "As before, we'll use a neural network to define our agent. What network architecture do you think would be especially well suited to this game? Since our observations are now in the form of images, we'll add convolutional layers to the network to increase the learning capacity of our network."
      ]
    },
    {
      "cell_type": "code",
      "metadata": {
        "id": "IJiqbFYpgYRH",
        "colab_type": "code",
        "colab": {}
      },
      "source": [
        "### Define the Pong agent ###\n",
        "\n",
        "# Functionally define layers for convenience\n",
        "# All convolutional layers will have ReLu activation\n",
        "Conv2D = functools.partial(tf.keras.layers.Conv2D, padding='same', activation='relu')\n",
        "Flatten = tf.keras.layers.Flatten\n",
        "Dense = tf.keras.layers.Dense\n",
        "\n",
        "# Defines a CNN for the Pong agent\n",
        "def create_pong_model():\n",
        "  model = tf.keras.models.Sequential([\n",
        "    # Convolutional layers\n",
        "    # First, 16 7x7 filters with 4x4 stride\n",
        "\n",
        "    #DEFINIR LAS CAPAS CONVOLUCIONALES SEGUN LOS COMENTARIOS\n",
        "\n",
        "    \n",
        "    Conv2D(filters=16, kernel_size=7, strides=4),\n",
        "\n",
        "    # TODO: define convolutional layers with 32 5x5 filters and 2x2 stride\n",
        "    Conv2D(filters=32, kernel_size=5, strides=2),\n",
        "\n",
        "    # TODO: define convolutional layers with 48 3x3 filters and 2x2 stride\n",
        "    Conv2D(filters=48, kernel_size=3, strides=2),\n",
        "\n",
        "    Flatten(),\n",
        "    \n",
        "    # Fully connected layer and output\n",
        "    Dense(units=64, activation='relu'),\n",
        "    # TODO: define the output dimension of the last Dense layer. \n",
        "    # Pay attention to the space the agent needs to act in\n",
        "    Dense(units=n_actions, activation=None)\n",
        "  \n",
        "  ])\n",
        "  return model\n",
        "\n",
        "pong_model = create_pong_model()"
      ],
      "execution_count": 0,
      "outputs": []
    },
    {
      "cell_type": "markdown",
      "metadata": {
        "id": "yaeZ067olFiJ",
        "colab_type": "text"
      },
      "source": [
        "Since we've already defined the action function, `choose_action(model, observation)`, we don't need to define it again. Instead, we'll be able to reuse it later on by passing in our new model we've just created, `pong_model`. This is awesome because our action function provides a modular and generalizable method for all sorts of RL agents!"
      ]
    },
    {
      "cell_type": "markdown",
      "metadata": {
        "id": "l0RvqOVkmc2r",
        "colab_type": "text"
      },
      "source": [
        "## 3.8 Pong-specific functions\n",
        "\n",
        "In Part 1 (Cartpole), we implemented some key functions and classes to build and train our RL agent -- `choose_action(model, observation)` and the `Memory` class, for example. However, in getting ready to apply these to a new game like Pong, we might need to make some slight modifications. \n",
        "\n",
        "Namely, we need to think about what happens when a game ends. In Pong, we know a game has ended if the reward is +1 (we won!) or -1 (we lost unfortunately). Otherwise, we expect the reward at a timestep to be zero -- the players (or agents) are just playing eachother. So, after a game ends, we will need to reset the reward to zero when a game ends. This will result in a modified reward function."
      ]
    },
    {
      "cell_type": "code",
      "metadata": {
        "id": "iEZG2o50luLu",
        "colab_type": "code",
        "colab": {}
      },
      "source": [
        "### Pong reward function ###\n",
        "\n",
        "# Compute normalized, discounted rewards for Pong (i.e., return)\n",
        "# Arguments:\n",
        "#   rewards: reward at timesteps in episode\n",
        "#   gamma: discounting factor. Note increase to 0.99 -- rate of depreciation will be slower.\n",
        "# Returns:\n",
        "#   normalized discounted reward\n",
        "def discount_rewards(rewards, gamma=0.99): \n",
        "  discounted_rewards = np.zeros_like(rewards)\n",
        "  R = 0\n",
        "  for t in reversed(range(0, len(rewards))):\n",
        "      # NEW: Reset the sum if the reward is not 0 (the game has ended!)\n",
        "      if rewards[t] != 0:\n",
        "        R = 0\n",
        "      # update the total discounted reward as before\n",
        "      R = R * gamma + rewards[t]\n",
        "      discounted_rewards[t] = R\n",
        "      \n",
        "  return normalize(discounted_rewards)"
      ],
      "execution_count": 0,
      "outputs": []
    },
    {
      "cell_type": "markdown",
      "metadata": {
        "id": "HopLpb4IoOqA",
        "colab_type": "text"
      },
      "source": [
        "Additionally, we have to consider the nature of the observations in the Pong environment, and how they will be fed into our network. Our observations in this case are images. Before we input an image into our network, we'll do a bit of pre-processing to crop and scale, clean up the background colors to a single color, and set the important game elements to a single color. Let's use this function to visualize what an observation might look like before and after pre-processing."
      ]
    },
    {
      "cell_type": "code",
      "metadata": {
        "id": "no5IIYtFm8pI",
        "colab_type": "code",
        "outputId": "dd90ef7f-4058-4041-90d3-71ff81889051",
        "colab": {
          "base_uri": "https://localhost:8080/",
          "height": 227
        }
      },
      "source": [
        "observation = env.reset()\n",
        "for i in range(30):\n",
        "  observation, _,_,_ = env.step(0)\n",
        "observation_pp = mdl.lab3.preprocess_pong(observation)\n",
        "\n",
        "f = plt.figure(figsize=(10,3))\n",
        "ax = f.add_subplot(121)\n",
        "ax2 = f.add_subplot(122)\n",
        "ax.imshow(observation); ax.grid(False);\n",
        "ax2.imshow(np.squeeze(observation_pp)); ax2.grid(False); plt.title('Preprocessed Observation');"
      ],
      "execution_count": 44,
      "outputs": [
        {
          "output_type": "display_data",
          "data": {
            "image/png": "[encoded data removed]",
            "text/plain": [
              "<Figure size 720x216 with 2 Axes>"
            ]
          },
          "metadata": {
            "tags": [],
            "needs_background": "light"
          }
        }
      ]
    },
    {
      "cell_type": "markdown",
      "metadata": {
        "id": "bYwIWC-Cz8F2",
        "colab_type": "text"
      },
      "source": [
        "What do you notice? How might these changes be important for training our RL algorithm?"
      ]
    },
    {
      "cell_type": "markdown",
      "metadata": {
        "id": "mRqcaDQ1pm3x",
        "colab_type": "text"
      },
      "source": [
        "## 3.9 Training Pong\n",
        "\n",
        "We're now all set up to start training our RL algorithm and agent for the game of Pong! We've already defined our loss function with `compute_loss`, which employs policy gradient learning, as well as our backpropagation step with `train_step` which is beautiful! We will use these functions to execute training the Pong agent. Let's walk through the training block.\n",
        "\n",
        "In Pong, rather than feeding our network one image at a time, it can actually improve performance to input the difference between two consecutive observations, which really gives us information about the movement between frames -- how the game is changing. We'll first pre-process the raw observation, `x`, and then we'll compute the difference with the image frame we saw one timestep before. \n",
        "\n",
        "This observation change will be forward propagated through our Pong agent, the CNN network model, which will then predict the next action to take based on this observation. The raw reward will be computed, and the observation, action, and reward will be recorded into memory. This will continue until a training episode, i.e., a game, ends.\n",
        "\n",
        "Then, we will compute the discounted rewards, and use this information to execute a training step. Memory will be cleared, and we will do it all over again!\n",
        "\n",
        "Let's run the code block to train our Pong agent. Note that completing training will take quite a bit of time (estimated at least a couple of hours). We will again visualize the evolution of the total reward as a function of training to get a sense of how the agent is learning."
      ]
    },
    {
      "cell_type": "code",
      "metadata": {
        "id": "xCwyQQrPnkZG",
        "colab_type": "code",
        "outputId": "497baeca-243f-434a-b7d9-9c64b088b916",
        "colab": {
          "base_uri": "https://localhost:8080/",
          "height": 279
        }
      },
      "source": [
        "### Training Pong ###\n",
        "\n",
        "# Hyperparameters\n",
        "learning_rate=1e-4\n",
        "MAX_ITERS = 10000 # increase the maximum number of episodes, since Pong is more complex!\n",
        "\n",
        "# Model and optimizer\n",
        "pong_model = create_pong_model()\n",
        "optimizer = tf.keras.optimizers.Adam(learning_rate)\n",
        "\n",
        "# plotting\n",
        "smoothed_reward = mdl.util.LossHistory(smoothing_factor=0.9)\n",
        "plotter = mdl.util.PeriodicPlotter(sec=5, xlabel='Iterations', ylabel='Rewards')\n",
        "memory = Memory()\n",
        "\n",
        "for i_episode in range(MAX_ITERS):\n",
        "\n",
        "  plotter.plot(smoothed_reward.get())\n",
        "\n",
        "  # Restart the environment\n",
        "  observation = env.reset()\n",
        "  previous_frame = mdl.lab3.preprocess_pong(observation)\n",
        "\n",
        "  while True:\n",
        "      # Pre-process image \n",
        "      current_frame = mdl.lab3.preprocess_pong(observation)\n",
        "      \n",
        "      '''TODO: determine the observation change\n",
        "      Hint: this is the difference between the past two frames'''\n",
        "      #EL CAMBIO DE LA OVSERVACION ES LA DIFERENCIA ENTRE LOS DOS FRAMES PASADOS\n",
        "      obs_change = current_frame - previous_frame\n",
        "      \n",
        "      '''TODO: choose an action for the pong model, using the frame difference, and evaluate'''\n",
        "      #UTILIZAR LA DIFERENCIA DE LOS DOS FRAMES PASADOS, PARA ESCOGER UNA ACCION PARA EL PONG MODEL\n",
        "      action = choose_action(pong_model, obs_change)\n",
        "      # Take the chosen action\n",
        "      next_observation, reward, done, info = env.step(action)\n",
        "\n",
        "      '''TODO: save the observed frame difference, the action that was taken, and the resulting reward!'''\n",
        "      memory.add_to_memory(obs_change, action, reward)\n",
        "      \n",
        "      # is the episode over? did you crash or do so well that you're done?\n",
        "      if done:\n",
        "          # determine total reward and keep a record of this\n",
        "          total_reward = sum(memory.rewards)\n",
        "          smoothed_reward.append( total_reward )\n",
        "\n",
        "          # begin training\n",
        "          train_step(pong_model, \n",
        "                     optimizer, \n",
        "                     observations = np.stack(memory.observations, 0), \n",
        "                     actions = np.array(memory.actions),\n",
        "                     discounted_rewards = discount_rewards(memory.rewards))\n",
        "          \n",
        "          memory.clear()\n",
        "          break\n",
        "\n",
        "      observation = next_observation\n",
        "      previous_frame = current_frame"
      ],
      "execution_count": 0,
      "outputs": [
        {
          "output_type": "display_data",
          "data": {
            "image/png": "[encoded data removed]",
            "text/plain": [
              "<Figure size 432x288 with 1 Axes>"
            ]
          },
          "metadata": {
            "tags": []
          }
        }
      ]
    },
    {
      "cell_type": "markdown",
      "metadata": {
        "id": "8LiEY5Y_ts-Z",
        "colab_type": "text"
      },
      "source": [
        "Finally we can put our trained agent to the test! It will play in a newly instantiated Pong environment against the \"computer\", a base AI system for Pong. Your agent plays as the green paddle. Let's watch the match instant replay!"
      ]
    },
    {
      "cell_type": "code",
      "metadata": {
        "id": "TvHXbkL0tR6M",
        "colab_type": "code",
        "colab": {}
      },
      "source": [
        "saved_pong = mdl.lab3.save_video_of_model(\n",
        "    pong_model, \"Pong-v0\", obs_diff=True, \n",
        "    pp_fn=mdl.lab3.preprocess_pong)\n",
        "mdl.lab3.play_video(saved_pong)"
      ],
      "execution_count": 0,
      "outputs": []
    },
    {
      "cell_type": "markdown",
      "metadata": {
        "id": "TIlwIgBP3Js6",
        "colab_type": "text"
      },
      "source": [
        "## 3.10 Conclusion\n",
        "\n",
        "That's it! Congratulations on training two RL agents and putting them to the test! We encourage you to consider the following:\n",
        "\n",
        "*   How does the agent perform?\n",
        "*   Could you train it for shorter amounts of time  and still perform well?\n",
        "*   Do you think that training longer would help even more? \n",
        "* How does the complexity of Pong relative to Cartpole alter the rate at which the agent learns and its performance? \n",
        "* What are some things you could change about the agent or the learning process to potentially improve performance?\n",
        "\n",
        "If you want to go further, try to optimize your model to achieve the best performance! **[Email us](mailto:introtodeeplearning-staff@mit.edu) a copy of your notebook with the Pong training executed AND a saved video of your Pong agent competing! We'll give out prizes to the best performers!**"
      ]
    }
  ]
}